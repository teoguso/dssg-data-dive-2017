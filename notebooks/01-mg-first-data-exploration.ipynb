{
 "cells": [
  {
   "cell_type": "markdown",
   "metadata": {},
   "source": [
    "# First look at the data"
   ]
  },
  {
   "cell_type": "code",
   "execution_count": 1,
   "metadata": {
    "collapsed": true
   },
   "outputs": [],
   "source": [
    "import numpy as np\n",
    "import pandas as pd\n",
    "import matplotlib.pyplot as plt\n",
    "%matplotlib inline"
   ]
  },
  {
   "cell_type": "code",
   "execution_count": 5,
   "metadata": {
    "collapsed": false
   },
   "outputs": [
    {
     "name": "stdout",
     "output_type": "stream",
     "text": [
      "      12 ../data/raw/Internship_Portals.txt\r\n",
      "  379121 ../data/raw/ga_paid_searches.csv\r\n",
      "  902458 ../data/raw/ga_webpages.csv\r\n",
      "   13922 ../data/raw/posts.csv\r\n",
      "     402 ../data/raw/posts_districts.csv\r\n",
      "      17 ../data/raw/posts_states.csv\r\n",
      "      66 ../data/raw/posts_topics.csv\r\n",
      "      42 ../data/raw/strength_topic.csv\r\n",
      " 1296040 total\r\n"
     ]
    }
   ],
   "source": [
    "!wc -l ../data/raw/*"
   ]
  },
  {
   "cell_type": "code",
   "execution_count": 6,
   "metadata": {
    "collapsed": false
   },
   "outputs": [],
   "source": [
    "df = pd.read_csv(\"../data/raw/posts.csv\", sep=\";\")"
   ]
  },
  {
   "cell_type": "code",
   "execution_count": 55,
   "metadata": {
    "collapsed": false
   },
   "outputs": [
    {
     "name": "stdout",
     "output_type": "stream",
     "text": [
      "<class 'pandas.core.frame.DataFrame'>\n",
      "RangeIndex: 8388 entries, 0 to 8387\n",
      "Data columns (total 13 columns):\n",
      "id                   8388 non-null int64\n",
      "title                8388 non-null object\n",
      "creation_date        8387 non-null object\n",
      "modification_date    8387 non-null object\n",
      "poststatus_id        8388 non-null int64\n",
      "combineddistricts    8325 non-null object\n",
      "combinedstates       63 non-null object\n",
      "combinedtopics       8373 non-null object\n",
      "description          8240 non-null object\n",
      "location             8188 non-null object\n",
      "organization         636 non-null object\n",
      "pagePath             8240 non-null object\n",
      "sector               8178 non-null object\n",
      "dtypes: int64(2), object(11)\n",
      "memory usage: 852.0+ KB\n"
     ]
    }
   ],
   "source": [
    "df.info()"
   ]
  },
  {
   "cell_type": "markdown",
   "metadata": {},
   "source": [
    "## Spatial information\n",
    "\n",
    "I'm going to focus now on the spatial information, i.e. `combineddistricts` and `combinedstates`.\n",
    "\n",
    "The idea is to unwrap the combined info and create multiple records, each one assigned to a different state and district.\n",
    "\n",
    "These two columns are mutually exclusive, i.e. if one information is present, the other is not. A good first task is to fill in missing state information using district information."
   ]
  },
  {
   "cell_type": "code",
   "execution_count": 59,
   "metadata": {
    "collapsed": false
   },
   "outputs": [
    {
     "data": {
      "text/plain": [
       "8325"
      ]
     },
     "execution_count": 59,
     "metadata": {},
     "output_type": "execute_result"
    }
   ],
   "source": [
    "df.combinedstates.isnull().sum()"
   ]
  },
  {
   "cell_type": "markdown",
   "metadata": {},
   "source": [
    "It seems combinedstates has many missing values. Maybe it's a better idea to use combineddistricts, which has many more valid values. The state information can probably be inferred from that as well. \n",
    "\n",
    "Let's focus now on combineddistricts."
   ]
  },
  {
   "cell_type": "code",
   "execution_count": 53,
   "metadata": {
    "collapsed": false
   },
   "outputs": [
    {
     "data": {
      "text/plain": [
       "<map at 0x7f4109af4cf8>"
      ]
     },
     "execution_count": 53,
     "metadata": {},
     "output_type": "execute_result"
    }
   ],
   "source": [
    "# def unwrap_states(df):\n",
    "a = df.combineddistrict[-df.combineddistrict.isnull()].tail(30).apply(lambda x: map(int, x.split(\",\")))[7946]\n",
    "a"
   ]
  },
  {
   "cell_type": "code",
   "execution_count": 52,
   "metadata": {
    "collapsed": false
   },
   "outputs": [
    {
     "data": {
      "text/plain": [
       "[1, 2, 3, 4, 5, 6, 7, 8, 9, 10, 11, 12, 13, 14, 15, 16]"
      ]
     },
     "execution_count": 52,
     "metadata": {},
     "output_type": "execute_result"
    }
   ],
   "source": [
    "[int(x) for x in a]"
   ]
  },
  {
   "cell_type": "code",
   "execution_count": null,
   "metadata": {
    "collapsed": true
   },
   "outputs": [],
   "source": []
  }
 ],
 "metadata": {
  "anaconda-cloud": {},
  "kernelspec": {
   "display_name": "Python [conda env:py3]",
   "language": "python",
   "name": "conda-env-py3-py"
  },
  "language_info": {
   "codemirror_mode": {
    "name": "ipython",
    "version": 3
   },
   "file_extension": ".py",
   "mimetype": "text/x-python",
   "name": "python",
   "nbconvert_exporter": "python",
   "pygments_lexer": "ipython3",
   "version": "3.5.2"
  }
 },
 "nbformat": 4,
 "nbformat_minor": 1
}
